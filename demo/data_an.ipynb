{
 "cells": [
  {
   "cell_type": "markdown",
   "metadata": {
    "slideshow": {
     "slide_type": "slide"
    }
   },
   "source": [
    "**...the next morning**"
   ]
  },
  {
   "cell_type": "code",
   "execution_count": 1,
   "metadata": {
    "slideshow": {
     "slide_type": "subslide"
    }
   },
   "outputs": [],
   "source": [
    "# Startup databrokers and elastic search\n",
    "import matplotlib.pyplot as plt\n",
    "%matplotlib qt5\n",
    "from pprint import pprint\n",
    "\n",
    "from rapidz.graph import _clean_text, readable_graph\n",
    "from xpdan.vend.callbacks.core import Retrieve\n",
    "from xpdan.vend.callbacks.zmq import Publisher\n",
    "from xpdconf.conf import glbl_dict\n",
    "\n",
    "from databroker_elasticsearch import load_elasticindex\n",
    "from databroker_elasticsearch.brokersearch import BrokerSearch\n",
    "\n",
    "from databroker import Broker\n",
    "import yaml\n",
    "import esconverters\n",
    "\n",
    "dbs = {}\n",
    "for yaml_file in ['raw', 'an']:\n",
    "    with open(f'{yaml_file}.yml', 'r') as f:\n",
    "        dbs[yaml_file] = Broker.from_config(yaml.load(f))"
   ]
  },
  {
   "cell_type": "markdown",
   "metadata": {
    "slideshow": {
     "slide_type": "slide"
    }
   },
   "source": [
    "FYI, the objects we have connected are  \n",
    "1. databoker databases that contain the metadata about the scans\n",
    "2. elastic-search indexes that have indexed the databrokers and will return just the metadata if queried\n",
    "3. Broker-search objects that will return the run-start header objects when queried (this is what is needed to run the analysis)"
   ]
  },
  {
   "cell_type": "code",
   "execution_count": 2,
   "metadata": {
    "slideshow": {
     "slide_type": "subslide"
    }
   },
   "outputs": [],
   "source": [
    "an_db = dbs['an']\n",
    "raw_db = dbs['raw']\n",
    "raw_es = load_elasticindex('es-raw.yaml')\n",
    "an_es = load_elasticindex('es-an.yaml')\n",
    "raw_db_es = BrokerSearch(raw_db, raw_es)\n",
    "an_db_es = BrokerSearch(an_db, an_es)"
   ]
  },
  {
   "cell_type": "markdown",
   "metadata": {
    "slideshow": {
     "slide_type": "slide"
    }
   },
   "source": [
    "1. Pavol wakes up and wonders how CJ did last night, but CJ is now sleeping soundly in his bed\n",
    "1. Pavol wants to use elastic search to search the database of collected data and see how CJ did last night\n",
    "1. He searches for ``tooth`` in any of the metadata fields"
   ]
  },
  {
   "cell_type": "code",
   "execution_count": 3,
   "metadata": {
    "slideshow": {
     "slide_type": "subslide"
    }
   },
   "outputs": [
    {
     "data": {
      "text/plain": [
       "['sabertooth tiger tooth', 'shark tooth', 'dinosaur tooth']"
      ]
     },
     "execution_count": 3,
     "metadata": {},
     "output_type": "execute_result"
    }
   ],
   "source": [
    "# query raw es for tooth\n",
    "[d['_source']['sample_name'] for d in raw_es.qsearch('tooth')['hits']['hits']]  # search all fields"
   ]
  },
  {
   "cell_type": "markdown",
   "metadata": {
    "slideshow": {
     "slide_type": "slide"
    }
   },
   "source": [
    "1. He finds three datasets, so he knows that CJ had a successful night\n",
    "1. He checks all the datasets ran to completion\n",
    "1. He also has other ways to search for the dinosaur tooth"
   ]
  },
  {
   "cell_type": "code",
   "execution_count": 4,
   "metadata": {
    "slideshow": {
     "slide_type": "subslide"
    }
   },
   "outputs": [
    {
     "name": "stdout",
     "output_type": "stream",
     "text": [
      "\n",
      "Run Stop\n",
      "========\n",
      "exit_status     : success                                 \n",
      "num_events      :\n",
      "  primary         : 16                                      \n",
      "run_start       : c47582f4-6bbb-4166-9425-0d15a7d4d9d5    \n",
      "time            : 1555346444.209458                       \n",
      "uid             : da3d85fa-ee14-4666-b5ac-6bd6d5632680    \n",
      "\n",
      "Run Stop\n",
      "========\n",
      "exit_status     : success                                 \n",
      "num_events      :\n",
      "  primary         : 16                                      \n",
      "run_start       : 66cb4c0a-4868-4a73-b290-e46443862b0b    \n",
      "time            : 1555346436.044921                       \n",
      "uid             : 7d3b3115-9878-402d-9d60-88a497422189    \n",
      "\n",
      "Run Stop\n",
      "========\n",
      "exit_status     : success                                 \n",
      "num_events      :\n",
      "  primary         : 16                                      \n",
      "run_start       : 96699280-d6cf-49e9-8da8-984bbea88a6e    \n",
      "time            : 1555346515.2263865                      \n",
      "uid             : 359a9a35-c518-4d87-b69c-bdc6668f5e80    \n"
     ]
    }
   ],
   "source": [
    "for hdr in raw_db_es('tooth'):\n",
    "    print(hdr.stop)"
   ]
  },
  {
   "cell_type": "code",
   "execution_count": 5,
   "metadata": {
    "slideshow": {
     "slide_type": "skip"
    }
   },
   "outputs": [
    {
     "data": {
      "text/plain": [
       "{'took': 18,\n",
       " 'timed_out': False,\n",
       " '_shards': {'total': 5, 'successful': 5, 'skipped': 0, 'failed': 0},\n",
       " 'hits': {'total': 1,\n",
       "  'max_score': 0.6931472,\n",
       "  'hits': [{'_index': 'demo-raw',\n",
       "    '_type': 'run_start',\n",
       "    '_id': '96699280-d6cf-49e9-8da8-984bbea88a6e',\n",
       "    '_score': 0.6931472,\n",
       "    '_source': {'detectors': ['img'],\n",
       "     'num_points': 16,\n",
       "     'plan_name': 'list_scan',\n",
       "     'scan_id': 1,\n",
       "     'time': 1555346506.9062324,\n",
       "     'uid': '96699280-d6cf-49e9-8da8-984bbea88a6e',\n",
       "     'date': '2019-04-15T12:41:46.906',\n",
       "     'sample_name': 'dinosaur tooth'}}]}}"
      ]
     },
     "execution_count": 5,
     "metadata": {},
     "output_type": "execute_result"
    }
   ],
   "source": [
    "raw_es.qsearch('dinosaur')  # search all fields"
   ]
  },
  {
   "cell_type": "code",
   "execution_count": 6,
   "metadata": {
    "slideshow": {
     "slide_type": "skip"
    }
   },
   "outputs": [
    {
     "data": {
      "text/plain": [
       "{'took': 16,\n",
       " 'timed_out': False,\n",
       " '_shards': {'total': 5, 'successful': 5, 'skipped': 0, 'failed': 0},\n",
       " 'hits': {'total': 1,\n",
       "  'max_score': 0.6931472,\n",
       "  'hits': [{'_index': 'demo-raw',\n",
       "    '_type': 'run_start',\n",
       "    '_id': '96699280-d6cf-49e9-8da8-984bbea88a6e',\n",
       "    '_score': 0.6931472,\n",
       "    '_source': {'detectors': ['img'],\n",
       "     'num_points': 16,\n",
       "     'plan_name': 'list_scan',\n",
       "     'scan_id': 1,\n",
       "     'time': 1555346506.9062324,\n",
       "     'uid': '96699280-d6cf-49e9-8da8-984bbea88a6e',\n",
       "     'date': '2019-04-15T12:41:46.906',\n",
       "     'sample_name': 'dinosaur tooth'}}]}}"
      ]
     },
     "execution_count": 6,
     "metadata": {},
     "output_type": "execute_result"
    }
   ],
   "source": [
    "raw_es.qsearch('sample_name:dinosaur')  # search specific field"
   ]
  },
  {
   "cell_type": "code",
   "execution_count": 7,
   "metadata": {
    "slideshow": {
     "slide_type": "skip"
    }
   },
   "outputs": [
    {
     "data": {
      "text/plain": [
       "{'took': 30,\n",
       " 'timed_out': False,\n",
       " '_shards': {'total': 5, 'successful': 5, 'skipped': 0, 'failed': 0},\n",
       " 'hits': {'total': 1,\n",
       "  'max_score': 1.0,\n",
       "  'hits': [{'_index': 'demo-raw',\n",
       "    '_type': 'run_start',\n",
       "    '_id': '96699280-d6cf-49e9-8da8-984bbea88a6e',\n",
       "    '_score': 1.0,\n",
       "    '_source': {'detectors': ['img'],\n",
       "     'num_points': 16,\n",
       "     'plan_name': 'list_scan',\n",
       "     'scan_id': 1,\n",
       "     'time': 1555346506.9062324,\n",
       "     'uid': '96699280-d6cf-49e9-8da8-984bbea88a6e',\n",
       "     'date': '2019-04-15T12:41:46.906',\n",
       "     'sample_name': 'dinosaur tooth'}}]}}"
      ]
     },
     "execution_count": 7,
     "metadata": {},
     "output_type": "execute_result"
    }
   ],
   "source": [
    "raw_es.qsearch('dino*')  # glob-like search"
   ]
  },
  {
   "cell_type": "code",
   "execution_count": 8,
   "metadata": {
    "slideshow": {
     "slide_type": "skip"
    }
   },
   "outputs": [
    {
     "data": {
      "text/plain": [
       "{'took': 78,\n",
       " 'timed_out': False,\n",
       " '_shards': {'total': 5, 'successful': 5, 'skipped': 0, 'failed': 0},\n",
       " 'hits': {'total': 1,\n",
       "  'max_score': 0.5198604,\n",
       "  'hits': [{'_index': 'demo-raw',\n",
       "    '_type': 'run_start',\n",
       "    '_id': '96699280-d6cf-49e9-8da8-984bbea88a6e',\n",
       "    '_score': 0.5198604,\n",
       "    '_source': {'detectors': ['img'],\n",
       "     'num_points': 16,\n",
       "     'plan_name': 'list_scan',\n",
       "     'scan_id': 1,\n",
       "     'time': 1555346506.9062324,\n",
       "     'uid': '96699280-d6cf-49e9-8da8-984bbea88a6e',\n",
       "     'date': '2019-04-15T12:41:46.906',\n",
       "     'sample_name': 'dinosaur tooth'}}]}}"
      ]
     },
     "execution_count": 8,
     "metadata": {},
     "output_type": "execute_result"
    }
   ],
   "source": [
    "raw_es.qsearch('dinosaurus~2')  # fuzzy search max edit distance of 2"
   ]
  },
  {
   "cell_type": "code",
   "execution_count": 9,
   "metadata": {
    "slideshow": {
     "slide_type": "skip"
    }
   },
   "outputs": [],
   "source": [
    "raw_hdr = next(iter(raw_db_es('dinosaurus~2')))\n",
    "uid = raw_hdr.start['uid']"
   ]
  },
  {
   "cell_type": "markdown",
   "metadata": {
    "slideshow": {
     "slide_type": "slide"
    }
   },
   "source": [
    "1. Pavol also wants to know if CJ was able to do any analysis on the data during the night\n",
    "1. Pavol searches the databroker that contains analyzed data"
   ]
  },
  {
   "cell_type": "code",
   "execution_count": 10,
   "metadata": {
    "slideshow": {
     "slide_type": "subslide"
    }
   },
   "outputs": [
    {
     "data": {
      "text/plain": [
       "{'took': 18,\n",
       " 'timed_out': False,\n",
       " '_shards': {'total': 5, 'successful': 5, 'skipped': 0, 'failed': 0},\n",
       " 'hits': {'total': 3, 'max_score': 0.0, 'hits': []}}"
      ]
     },
     "execution_count": 10,
     "metadata": {},
     "output_type": "execute_result"
    }
   ],
   "source": [
    "# queries with an_es\n",
    "an_es.qsearch('img_sinogram', size=0)"
   ]
  },
  {
   "cell_type": "code",
   "execution_count": 11,
   "metadata": {
    "slideshow": {
     "slide_type": "skip"
    }
   },
   "outputs": [
    {
     "data": {
      "text/plain": [
       "{'took': 23,\n",
       " 'timed_out': False,\n",
       " '_shards': {'total': 5, 'successful': 5, 'skipped': 0, 'failed': 0},\n",
       " 'hits': {'total': 3,\n",
       "  'max_score': 0.9808292,\n",
       "  'hits': [{'_index': 'demo-an',\n",
       "    '_type': 'run_start',\n",
       "    '_id': 'f9518a86-c916-4b8b-b450-d344fe93938d',\n",
       "    '_score': 0.9808292,\n",
       "    '_source': {'uid': 'f9518a86-c916-4b8b-b450-d344fe93938d',\n",
       "     'puid': ['96699280-d6cf-49e9-8da8-984bbea88a6e'],\n",
       "     'analysis_stage': 'img_sinogram',\n",
       "     'usednodes': [{'ndtype': 'shed.translation.ToEventStream',\n",
       "       'ndkwargs': {'analysis_stage': 'img_sinogram'}},\n",
       "      {'ndtype': 'rapidz.core.map',\n",
       "       'ndfunc': 'xpdtools.pipelines.tomo.conditional_squeeze'},\n",
       "      {'ndtype': 'rapidz.core.starmap',\n",
       "       'ndfunc': 'xpdtools.pipelines.tomo.sort_sinogram'},\n",
       "      {'ndtype': 'rapidz.core.accumulate',\n",
       "       'ndfunc': 'xpdtools.pipelines.tomo.append_data'},\n",
       "      {'ndtype': 'rapidz.core.zip'},\n",
       "      {'ndtype': 'rapidz.core.map',\n",
       "       'ndfunc': 'tomopy.prep.normalize.minus_log'},\n",
       "      {'ndtype': 'rapidz.core.map',\n",
       "       'ndfunc': 'xpdtools.pipelines.tomo.reshape',\n",
       "       'ndkwargs': {'stream_name': 'reshape'}},\n",
       "      {'ndtype': 'shed.translation.FromEventStream',\n",
       "       'ndkwargs': {'principle': True}},\n",
       "      {'ndtype': 'rapidz.core.map', 'ndfunc': 'numpy.deg2rad'},\n",
       "      {'ndtype': 'shed.translation.FromEventStream'}]}},\n",
       "   {'_index': 'demo-an',\n",
       "    '_type': 'run_start',\n",
       "    '_id': '00fa240a-bb51-4a0e-bca2-89e5a9789791',\n",
       "    '_score': 0.6931472,\n",
       "    '_source': {'uid': '00fa240a-bb51-4a0e-bca2-89e5a9789791',\n",
       "     'puid': ['c47582f4-6bbb-4166-9425-0d15a7d4d9d5'],\n",
       "     'analysis_stage': 'img_sinogram',\n",
       "     'usednodes': [{'ndtype': 'shed.translation.ToEventStream',\n",
       "       'ndkwargs': {'analysis_stage': 'img_sinogram'}},\n",
       "      {'ndtype': 'rapidz.core.map',\n",
       "       'ndfunc': 'xpdtools.pipelines.tomo.conditional_squeeze'},\n",
       "      {'ndtype': 'rapidz.core.starmap',\n",
       "       'ndfunc': 'xpdtools.pipelines.tomo.sort_sinogram'},\n",
       "      {'ndtype': 'rapidz.core.accumulate',\n",
       "       'ndfunc': 'xpdtools.pipelines.tomo.append_data'},\n",
       "      {'ndtype': 'rapidz.core.zip'},\n",
       "      {'ndtype': 'rapidz.core.map',\n",
       "       'ndfunc': 'tomopy.prep.normalize.minus_log'},\n",
       "      {'ndtype': 'rapidz.core.map',\n",
       "       'ndfunc': 'xpdtools.pipelines.tomo.reshape',\n",
       "       'ndkwargs': {'stream_name': 'reshape'}},\n",
       "      {'ndtype': 'shed.translation.FromEventStream',\n",
       "       'ndkwargs': {'principle': True}},\n",
       "      {'ndtype': 'rapidz.core.map', 'ndfunc': 'numpy.deg2rad'},\n",
       "      {'ndtype': 'shed.translation.FromEventStream'}]}},\n",
       "   {'_index': 'demo-an',\n",
       "    '_type': 'run_start',\n",
       "    '_id': '4464f748-2db1-4d0e-ad5e-7bd99b0b6e74',\n",
       "    '_score': 0.2876821,\n",
       "    '_source': {'uid': '4464f748-2db1-4d0e-ad5e-7bd99b0b6e74',\n",
       "     'puid': ['66cb4c0a-4868-4a73-b290-e46443862b0b'],\n",
       "     'analysis_stage': 'img_sinogram',\n",
       "     'usednodes': [{'ndtype': 'shed.translation.ToEventStream',\n",
       "       'ndkwargs': {'analysis_stage': 'img_sinogram'}},\n",
       "      {'ndtype': 'rapidz.core.map',\n",
       "       'ndfunc': 'xpdtools.pipelines.tomo.conditional_squeeze'},\n",
       "      {'ndtype': 'rapidz.core.starmap',\n",
       "       'ndfunc': 'xpdtools.pipelines.tomo.sort_sinogram'},\n",
       "      {'ndtype': 'rapidz.core.accumulate',\n",
       "       'ndfunc': 'xpdtools.pipelines.tomo.append_data'},\n",
       "      {'ndtype': 'rapidz.core.zip'},\n",
       "      {'ndtype': 'rapidz.core.map',\n",
       "       'ndfunc': 'tomopy.prep.normalize.minus_log'},\n",
       "      {'ndtype': 'rapidz.core.map',\n",
       "       'ndfunc': 'xpdtools.pipelines.tomo.reshape',\n",
       "       'ndkwargs': {'stream_name': 'reshape'}},\n",
       "      {'ndtype': 'shed.translation.FromEventStream',\n",
       "       'ndkwargs': {'principle': True}},\n",
       "      {'ndtype': 'rapidz.core.map', 'ndfunc': 'numpy.deg2rad'},\n",
       "      {'ndtype': 'shed.translation.FromEventStream'}]}}]}}"
      ]
     },
     "execution_count": 11,
     "metadata": {},
     "output_type": "execute_result"
    }
   ],
   "source": [
    "an_es.qsearch('img_sinogram')"
   ]
  },
  {
   "cell_type": "code",
   "execution_count": 12,
   "metadata": {
    "slideshow": {
     "slide_type": "skip"
    }
   },
   "outputs": [
    {
     "data": {
      "text/plain": [
       "{'took': 8,\n",
       " 'timed_out': False,\n",
       " '_shards': {'total': 5, 'successful': 5, 'skipped': 0, 'failed': 0},\n",
       " 'hits': {'total': 2,\n",
       "  'max_score': 1.0,\n",
       "  'hits': [{'_index': 'demo-an',\n",
       "    '_type': 'run_start',\n",
       "    '_id': '375071ed-9619-4d4b-9627-29de39847e44',\n",
       "    '_score': 1.0,\n",
       "    '_source': {'uid': '375071ed-9619-4d4b-9627-29de39847e44',\n",
       "     'puid': ['96699280-d6cf-49e9-8da8-984bbea88a6e'],\n",
       "     'analysis_stage': 'img_tomo',\n",
       "     'usednodes': [{'ndtype': 'shed.translation.ToEventStream',\n",
       "       'ndkwargs': {'analysis_stage': 'img_tomo'}},\n",
       "      {'ndtype': 'rapidz.core.starmap',\n",
       "       'ndfunc': 'xpdtools.pipelines.tomo.recon_wrapper',\n",
       "       'ndkwargs': {'algorithm': 'gridrec'}},\n",
       "      {'ndtype': 'rapidz.core.map',\n",
       "       'ndfunc': 'xpdtools.pipelines.tomo.flatten'},\n",
       "      {'ndtype': 'rapidz.core.combine_latest', 'ndkwargs': {'emit_on': 0}},\n",
       "      {'ndtype': 'rapidz.core.accumulate',\n",
       "       'ndfunc': 'xpdtools.pipelines.tomo.append_data'},\n",
       "      {'ndtype': 'rapidz.core.zip'},\n",
       "      {'ndtype': 'rapidz.core.map',\n",
       "       'ndfunc': 'tomopy.prep.normalize.minus_log'},\n",
       "      {'ndtype': 'rapidz.core.map',\n",
       "       'ndfunc': 'xpdtools.pipelines.tomo.reshape',\n",
       "       'ndkwargs': {'stream_name': 'reshape'}},\n",
       "      {'ndtype': 'shed.translation.FromEventStream',\n",
       "       'ndkwargs': {'principle': True}},\n",
       "      {'ndtype': 'rapidz.core.map', 'ndfunc': 'numpy.deg2rad'},\n",
       "      {'ndtype': 'shed.translation.FromEventStream'},\n",
       "      {'ndtype': 'shed.translation.FromEventStream'}]}},\n",
       "   {'_index': 'demo-an',\n",
       "    '_type': 'run_start',\n",
       "    '_id': 'f9518a86-c916-4b8b-b450-d344fe93938d',\n",
       "    '_score': 1.0,\n",
       "    '_source': {'uid': 'f9518a86-c916-4b8b-b450-d344fe93938d',\n",
       "     'puid': ['96699280-d6cf-49e9-8da8-984bbea88a6e'],\n",
       "     'analysis_stage': 'img_sinogram',\n",
       "     'usednodes': [{'ndtype': 'shed.translation.ToEventStream',\n",
       "       'ndkwargs': {'analysis_stage': 'img_sinogram'}},\n",
       "      {'ndtype': 'rapidz.core.map',\n",
       "       'ndfunc': 'xpdtools.pipelines.tomo.conditional_squeeze'},\n",
       "      {'ndtype': 'rapidz.core.starmap',\n",
       "       'ndfunc': 'xpdtools.pipelines.tomo.sort_sinogram'},\n",
       "      {'ndtype': 'rapidz.core.accumulate',\n",
       "       'ndfunc': 'xpdtools.pipelines.tomo.append_data'},\n",
       "      {'ndtype': 'rapidz.core.zip'},\n",
       "      {'ndtype': 'rapidz.core.map',\n",
       "       'ndfunc': 'tomopy.prep.normalize.minus_log'},\n",
       "      {'ndtype': 'rapidz.core.map',\n",
       "       'ndfunc': 'xpdtools.pipelines.tomo.reshape',\n",
       "       'ndkwargs': {'stream_name': 'reshape'}},\n",
       "      {'ndtype': 'shed.translation.FromEventStream',\n",
       "       'ndkwargs': {'principle': True}},\n",
       "      {'ndtype': 'rapidz.core.map', 'ndfunc': 'numpy.deg2rad'},\n",
       "      {'ndtype': 'shed.translation.FromEventStream'}]}}]}}"
      ]
     },
     "execution_count": 12,
     "metadata": {},
     "output_type": "execute_result"
    }
   ],
   "source": [
    "an_es.qsearch(f'puid:{uid[:6]}*')  # word in puid"
   ]
  },
  {
   "cell_type": "code",
   "execution_count": 13,
   "metadata": {
    "slideshow": {
     "slide_type": "skip"
    }
   },
   "outputs": [
    {
     "data": {
      "text/plain": [
       "{'took': 6,\n",
       " 'timed_out': False,\n",
       " '_shards': {'total': 5, 'successful': 5, 'skipped': 0, 'failed': 0},\n",
       " 'hits': {'total': 3,\n",
       "  'max_score': 0.9808292,\n",
       "  'hits': [{'_index': 'demo-an',\n",
       "    '_type': 'run_start',\n",
       "    '_id': 'f9518a86-c916-4b8b-b450-d344fe93938d',\n",
       "    '_score': 0.9808292,\n",
       "    '_source': {'uid': 'f9518a86-c916-4b8b-b450-d344fe93938d',\n",
       "     'puid': ['96699280-d6cf-49e9-8da8-984bbea88a6e'],\n",
       "     'analysis_stage': 'img_sinogram',\n",
       "     'usednodes': [{'ndtype': 'shed.translation.ToEventStream',\n",
       "       'ndkwargs': {'analysis_stage': 'img_sinogram'}},\n",
       "      {'ndtype': 'rapidz.core.map',\n",
       "       'ndfunc': 'xpdtools.pipelines.tomo.conditional_squeeze'},\n",
       "      {'ndtype': 'rapidz.core.starmap',\n",
       "       'ndfunc': 'xpdtools.pipelines.tomo.sort_sinogram'},\n",
       "      {'ndtype': 'rapidz.core.accumulate',\n",
       "       'ndfunc': 'xpdtools.pipelines.tomo.append_data'},\n",
       "      {'ndtype': 'rapidz.core.zip'},\n",
       "      {'ndtype': 'rapidz.core.map',\n",
       "       'ndfunc': 'tomopy.prep.normalize.minus_log'},\n",
       "      {'ndtype': 'rapidz.core.map',\n",
       "       'ndfunc': 'xpdtools.pipelines.tomo.reshape',\n",
       "       'ndkwargs': {'stream_name': 'reshape'}},\n",
       "      {'ndtype': 'shed.translation.FromEventStream',\n",
       "       'ndkwargs': {'principle': True}},\n",
       "      {'ndtype': 'rapidz.core.map', 'ndfunc': 'numpy.deg2rad'},\n",
       "      {'ndtype': 'shed.translation.FromEventStream'}]}},\n",
       "   {'_index': 'demo-an',\n",
       "    '_type': 'run_start',\n",
       "    '_id': '00fa240a-bb51-4a0e-bca2-89e5a9789791',\n",
       "    '_score': 0.6931472,\n",
       "    '_source': {'uid': '00fa240a-bb51-4a0e-bca2-89e5a9789791',\n",
       "     'puid': ['c47582f4-6bbb-4166-9425-0d15a7d4d9d5'],\n",
       "     'analysis_stage': 'img_sinogram',\n",
       "     'usednodes': [{'ndtype': 'shed.translation.ToEventStream',\n",
       "       'ndkwargs': {'analysis_stage': 'img_sinogram'}},\n",
       "      {'ndtype': 'rapidz.core.map',\n",
       "       'ndfunc': 'xpdtools.pipelines.tomo.conditional_squeeze'},\n",
       "      {'ndtype': 'rapidz.core.starmap',\n",
       "       'ndfunc': 'xpdtools.pipelines.tomo.sort_sinogram'},\n",
       "      {'ndtype': 'rapidz.core.accumulate',\n",
       "       'ndfunc': 'xpdtools.pipelines.tomo.append_data'},\n",
       "      {'ndtype': 'rapidz.core.zip'},\n",
       "      {'ndtype': 'rapidz.core.map',\n",
       "       'ndfunc': 'tomopy.prep.normalize.minus_log'},\n",
       "      {'ndtype': 'rapidz.core.map',\n",
       "       'ndfunc': 'xpdtools.pipelines.tomo.reshape',\n",
       "       'ndkwargs': {'stream_name': 'reshape'}},\n",
       "      {'ndtype': 'shed.translation.FromEventStream',\n",
       "       'ndkwargs': {'principle': True}},\n",
       "      {'ndtype': 'rapidz.core.map', 'ndfunc': 'numpy.deg2rad'},\n",
       "      {'ndtype': 'shed.translation.FromEventStream'}]}},\n",
       "   {'_index': 'demo-an',\n",
       "    '_type': 'run_start',\n",
       "    '_id': '4464f748-2db1-4d0e-ad5e-7bd99b0b6e74',\n",
       "    '_score': 0.2876821,\n",
       "    '_source': {'uid': '4464f748-2db1-4d0e-ad5e-7bd99b0b6e74',\n",
       "     'puid': ['66cb4c0a-4868-4a73-b290-e46443862b0b'],\n",
       "     'analysis_stage': 'img_sinogram',\n",
       "     'usednodes': [{'ndtype': 'shed.translation.ToEventStream',\n",
       "       'ndkwargs': {'analysis_stage': 'img_sinogram'}},\n",
       "      {'ndtype': 'rapidz.core.map',\n",
       "       'ndfunc': 'xpdtools.pipelines.tomo.conditional_squeeze'},\n",
       "      {'ndtype': 'rapidz.core.starmap',\n",
       "       'ndfunc': 'xpdtools.pipelines.tomo.sort_sinogram'},\n",
       "      {'ndtype': 'rapidz.core.accumulate',\n",
       "       'ndfunc': 'xpdtools.pipelines.tomo.append_data'},\n",
       "      {'ndtype': 'rapidz.core.zip'},\n",
       "      {'ndtype': 'rapidz.core.map',\n",
       "       'ndfunc': 'tomopy.prep.normalize.minus_log'},\n",
       "      {'ndtype': 'rapidz.core.map',\n",
       "       'ndfunc': 'xpdtools.pipelines.tomo.reshape',\n",
       "       'ndkwargs': {'stream_name': 'reshape'}},\n",
       "      {'ndtype': 'shed.translation.FromEventStream',\n",
       "       'ndkwargs': {'principle': True}},\n",
       "      {'ndtype': 'rapidz.core.map', 'ndfunc': 'numpy.deg2rad'},\n",
       "      {'ndtype': 'shed.translation.FromEventStream'}]}}]}}"
      ]
     },
     "execution_count": 13,
     "metadata": {},
     "output_type": "execute_result"
    }
   ],
   "source": [
    "an_es.qsearch('analysis_stage:img_sinogram')"
   ]
  },
  {
   "cell_type": "code",
   "execution_count": 14,
   "metadata": {
    "slideshow": {
     "slide_type": "skip"
    }
   },
   "outputs": [
    {
     "data": {
      "text/plain": [
       "{'took': 26,\n",
       " 'timed_out': False,\n",
       " '_shards': {'total': 5, 'successful': 5, 'skipped': 0, 'failed': 0},\n",
       " 'hits': {'total': 3,\n",
       "  'max_score': 1.0,\n",
       "  'hits': [{'_index': 'demo-an',\n",
       "    '_type': 'run_start',\n",
       "    '_id': 'f9518a86-c916-4b8b-b450-d344fe93938d',\n",
       "    '_score': 1.0,\n",
       "    '_source': {'uid': 'f9518a86-c916-4b8b-b450-d344fe93938d',\n",
       "     'puid': ['96699280-d6cf-49e9-8da8-984bbea88a6e'],\n",
       "     'analysis_stage': 'img_sinogram',\n",
       "     'usednodes': [{'ndtype': 'shed.translation.ToEventStream',\n",
       "       'ndkwargs': {'analysis_stage': 'img_sinogram'}},\n",
       "      {'ndtype': 'rapidz.core.map',\n",
       "       'ndfunc': 'xpdtools.pipelines.tomo.conditional_squeeze'},\n",
       "      {'ndtype': 'rapidz.core.starmap',\n",
       "       'ndfunc': 'xpdtools.pipelines.tomo.sort_sinogram'},\n",
       "      {'ndtype': 'rapidz.core.accumulate',\n",
       "       'ndfunc': 'xpdtools.pipelines.tomo.append_data'},\n",
       "      {'ndtype': 'rapidz.core.zip'},\n",
       "      {'ndtype': 'rapidz.core.map',\n",
       "       'ndfunc': 'tomopy.prep.normalize.minus_log'},\n",
       "      {'ndtype': 'rapidz.core.map',\n",
       "       'ndfunc': 'xpdtools.pipelines.tomo.reshape',\n",
       "       'ndkwargs': {'stream_name': 'reshape'}},\n",
       "      {'ndtype': 'shed.translation.FromEventStream',\n",
       "       'ndkwargs': {'principle': True}},\n",
       "      {'ndtype': 'rapidz.core.map', 'ndfunc': 'numpy.deg2rad'},\n",
       "      {'ndtype': 'shed.translation.FromEventStream'}]}},\n",
       "   {'_index': 'demo-an',\n",
       "    '_type': 'run_start',\n",
       "    '_id': '4464f748-2db1-4d0e-ad5e-7bd99b0b6e74',\n",
       "    '_score': 1.0,\n",
       "    '_source': {'uid': '4464f748-2db1-4d0e-ad5e-7bd99b0b6e74',\n",
       "     'puid': ['66cb4c0a-4868-4a73-b290-e46443862b0b'],\n",
       "     'analysis_stage': 'img_sinogram',\n",
       "     'usednodes': [{'ndtype': 'shed.translation.ToEventStream',\n",
       "       'ndkwargs': {'analysis_stage': 'img_sinogram'}},\n",
       "      {'ndtype': 'rapidz.core.map',\n",
       "       'ndfunc': 'xpdtools.pipelines.tomo.conditional_squeeze'},\n",
       "      {'ndtype': 'rapidz.core.starmap',\n",
       "       'ndfunc': 'xpdtools.pipelines.tomo.sort_sinogram'},\n",
       "      {'ndtype': 'rapidz.core.accumulate',\n",
       "       'ndfunc': 'xpdtools.pipelines.tomo.append_data'},\n",
       "      {'ndtype': 'rapidz.core.zip'},\n",
       "      {'ndtype': 'rapidz.core.map',\n",
       "       'ndfunc': 'tomopy.prep.normalize.minus_log'},\n",
       "      {'ndtype': 'rapidz.core.map',\n",
       "       'ndfunc': 'xpdtools.pipelines.tomo.reshape',\n",
       "       'ndkwargs': {'stream_name': 'reshape'}},\n",
       "      {'ndtype': 'shed.translation.FromEventStream',\n",
       "       'ndkwargs': {'principle': True}},\n",
       "      {'ndtype': 'rapidz.core.map', 'ndfunc': 'numpy.deg2rad'},\n",
       "      {'ndtype': 'shed.translation.FromEventStream'}]}},\n",
       "   {'_index': 'demo-an',\n",
       "    '_type': 'run_start',\n",
       "    '_id': '00fa240a-bb51-4a0e-bca2-89e5a9789791',\n",
       "    '_score': 1.0,\n",
       "    '_source': {'uid': '00fa240a-bb51-4a0e-bca2-89e5a9789791',\n",
       "     'puid': ['c47582f4-6bbb-4166-9425-0d15a7d4d9d5'],\n",
       "     'analysis_stage': 'img_sinogram',\n",
       "     'usednodes': [{'ndtype': 'shed.translation.ToEventStream',\n",
       "       'ndkwargs': {'analysis_stage': 'img_sinogram'}},\n",
       "      {'ndtype': 'rapidz.core.map',\n",
       "       'ndfunc': 'xpdtools.pipelines.tomo.conditional_squeeze'},\n",
       "      {'ndtype': 'rapidz.core.starmap',\n",
       "       'ndfunc': 'xpdtools.pipelines.tomo.sort_sinogram'},\n",
       "      {'ndtype': 'rapidz.core.accumulate',\n",
       "       'ndfunc': 'xpdtools.pipelines.tomo.append_data'},\n",
       "      {'ndtype': 'rapidz.core.zip'},\n",
       "      {'ndtype': 'rapidz.core.map',\n",
       "       'ndfunc': 'tomopy.prep.normalize.minus_log'},\n",
       "      {'ndtype': 'rapidz.core.map',\n",
       "       'ndfunc': 'xpdtools.pipelines.tomo.reshape',\n",
       "       'ndkwargs': {'stream_name': 'reshape'}},\n",
       "      {'ndtype': 'shed.translation.FromEventStream',\n",
       "       'ndkwargs': {'principle': True}},\n",
       "      {'ndtype': 'rapidz.core.map', 'ndfunc': 'numpy.deg2rad'},\n",
       "      {'ndtype': 'shed.translation.FromEventStream'}]}}]}}"
      ]
     },
     "execution_count": 14,
     "metadata": {},
     "output_type": "execute_result"
    }
   ],
   "source": [
    "an_es.qsearch('usednodes.ndfunc:*sort_sinogram')"
   ]
  },
  {
   "cell_type": "code",
   "execution_count": 15,
   "metadata": {
    "slideshow": {
     "slide_type": "skip"
    }
   },
   "outputs": [
    {
     "data": {
      "text/plain": [
       "{'took': 16,\n",
       " 'timed_out': False,\n",
       " '_shards': {'total': 5, 'successful': 5, 'skipped': 0, 'failed': 0},\n",
       " 'hits': {'total': 3,\n",
       "  'max_score': 0.2876821,\n",
       "  'hits': [{'_index': 'demo-an',\n",
       "    '_type': 'run_start',\n",
       "    '_id': '5e0fb8c9-2708-4885-9c66-1871dc206f42',\n",
       "    '_score': 0.2876821,\n",
       "    '_source': {'uid': '5e0fb8c9-2708-4885-9c66-1871dc206f42',\n",
       "     'puid': ['c47582f4-6bbb-4166-9425-0d15a7d4d9d5'],\n",
       "     'analysis_stage': 'img_tomo',\n",
       "     'usednodes': [{'ndtype': 'shed.translation.ToEventStream',\n",
       "       'ndkwargs': {'analysis_stage': 'img_tomo'}},\n",
       "      {'ndtype': 'rapidz.core.starmap',\n",
       "       'ndfunc': 'xpdtools.pipelines.tomo.recon_wrapper',\n",
       "       'ndkwargs': {'algorithm': 'gridrec'}},\n",
       "      {'ndtype': 'rapidz.core.map',\n",
       "       'ndfunc': 'xpdtools.pipelines.tomo.flatten'},\n",
       "      {'ndtype': 'rapidz.core.combine_latest', 'ndkwargs': {'emit_on': 0}},\n",
       "      {'ndtype': 'rapidz.core.accumulate',\n",
       "       'ndfunc': 'xpdtools.pipelines.tomo.append_data'},\n",
       "      {'ndtype': 'rapidz.core.zip'},\n",
       "      {'ndtype': 'rapidz.core.map',\n",
       "       'ndfunc': 'tomopy.prep.normalize.minus_log'},\n",
       "      {'ndtype': 'rapidz.core.map',\n",
       "       'ndfunc': 'xpdtools.pipelines.tomo.reshape',\n",
       "       'ndkwargs': {'stream_name': 'reshape'}},\n",
       "      {'ndtype': 'shed.translation.FromEventStream',\n",
       "       'ndkwargs': {'principle': True}},\n",
       "      {'ndtype': 'rapidz.core.map', 'ndfunc': 'numpy.deg2rad'},\n",
       "      {'ndtype': 'shed.translation.FromEventStream'},\n",
       "      {'ndtype': 'shed.translation.FromEventStream'}]}},\n",
       "   {'_index': 'demo-an',\n",
       "    '_type': 'run_start',\n",
       "    '_id': 'e7a000bc-ba8f-44af-a6b7-b216b117365a',\n",
       "    '_score': 0.18232156,\n",
       "    '_source': {'uid': 'e7a000bc-ba8f-44af-a6b7-b216b117365a',\n",
       "     'puid': ['66cb4c0a-4868-4a73-b290-e46443862b0b'],\n",
       "     'analysis_stage': 'img_tomo',\n",
       "     'usednodes': [{'ndtype': 'shed.translation.ToEventStream',\n",
       "       'ndkwargs': {'analysis_stage': 'img_tomo'}},\n",
       "      {'ndtype': 'rapidz.core.starmap',\n",
       "       'ndfunc': 'xpdtools.pipelines.tomo.recon_wrapper',\n",
       "       'ndkwargs': {'algorithm': 'gridrec'}},\n",
       "      {'ndtype': 'rapidz.core.map',\n",
       "       'ndfunc': 'xpdtools.pipelines.tomo.flatten'},\n",
       "      {'ndtype': 'rapidz.core.combine_latest', 'ndkwargs': {'emit_on': 0}},\n",
       "      {'ndtype': 'rapidz.core.accumulate',\n",
       "       'ndfunc': 'xpdtools.pipelines.tomo.append_data'},\n",
       "      {'ndtype': 'rapidz.core.zip'},\n",
       "      {'ndtype': 'rapidz.core.map',\n",
       "       'ndfunc': 'tomopy.prep.normalize.minus_log'},\n",
       "      {'ndtype': 'rapidz.core.map',\n",
       "       'ndfunc': 'xpdtools.pipelines.tomo.reshape',\n",
       "       'ndkwargs': {'stream_name': 'reshape'}},\n",
       "      {'ndtype': 'shed.translation.FromEventStream',\n",
       "       'ndkwargs': {'principle': True}},\n",
       "      {'ndtype': 'rapidz.core.map', 'ndfunc': 'numpy.deg2rad'},\n",
       "      {'ndtype': 'shed.translation.FromEventStream'},\n",
       "      {'ndtype': 'shed.translation.FromEventStream'}]}},\n",
       "   {'_index': 'demo-an',\n",
       "    '_type': 'run_start',\n",
       "    '_id': '375071ed-9619-4d4b-9627-29de39847e44',\n",
       "    '_score': 0.18232156,\n",
       "    '_source': {'uid': '375071ed-9619-4d4b-9627-29de39847e44',\n",
       "     'puid': ['96699280-d6cf-49e9-8da8-984bbea88a6e'],\n",
       "     'analysis_stage': 'img_tomo',\n",
       "     'usednodes': [{'ndtype': 'shed.translation.ToEventStream',\n",
       "       'ndkwargs': {'analysis_stage': 'img_tomo'}},\n",
       "      {'ndtype': 'rapidz.core.starmap',\n",
       "       'ndfunc': 'xpdtools.pipelines.tomo.recon_wrapper',\n",
       "       'ndkwargs': {'algorithm': 'gridrec'}},\n",
       "      {'ndtype': 'rapidz.core.map',\n",
       "       'ndfunc': 'xpdtools.pipelines.tomo.flatten'},\n",
       "      {'ndtype': 'rapidz.core.combine_latest', 'ndkwargs': {'emit_on': 0}},\n",
       "      {'ndtype': 'rapidz.core.accumulate',\n",
       "       'ndfunc': 'xpdtools.pipelines.tomo.append_data'},\n",
       "      {'ndtype': 'rapidz.core.zip'},\n",
       "      {'ndtype': 'rapidz.core.map',\n",
       "       'ndfunc': 'tomopy.prep.normalize.minus_log'},\n",
       "      {'ndtype': 'rapidz.core.map',\n",
       "       'ndfunc': 'xpdtools.pipelines.tomo.reshape',\n",
       "       'ndkwargs': {'stream_name': 'reshape'}},\n",
       "      {'ndtype': 'shed.translation.FromEventStream',\n",
       "       'ndkwargs': {'principle': True}},\n",
       "      {'ndtype': 'rapidz.core.map', 'ndfunc': 'numpy.deg2rad'},\n",
       "      {'ndtype': 'shed.translation.FromEventStream'},\n",
       "      {'ndtype': 'shed.translation.FromEventStream'}]}}]}}"
      ]
     },
     "execution_count": 15,
     "metadata": {},
     "output_type": "execute_result"
    }
   ],
   "source": [
    "an_es.qsearch('gridrec')"
   ]
  },
  {
   "cell_type": "code",
   "execution_count": 16,
   "metadata": {
    "slideshow": {
     "slide_type": "skip"
    }
   },
   "outputs": [
    {
     "data": {
      "text/plain": [
       "{'took': 10,\n",
       " 'timed_out': False,\n",
       " '_shards': {'total': 5, 'successful': 5, 'skipped': 0, 'failed': 0},\n",
       " 'hits': {'total': 3,\n",
       "  'max_score': 0.2876821,\n",
       "  'hits': [{'_index': 'demo-an',\n",
       "    '_type': 'run_start',\n",
       "    '_id': '5e0fb8c9-2708-4885-9c66-1871dc206f42',\n",
       "    '_score': 0.2876821,\n",
       "    '_source': {'uid': '5e0fb8c9-2708-4885-9c66-1871dc206f42',\n",
       "     'puid': ['c47582f4-6bbb-4166-9425-0d15a7d4d9d5'],\n",
       "     'analysis_stage': 'img_tomo',\n",
       "     'usednodes': [{'ndtype': 'shed.translation.ToEventStream',\n",
       "       'ndkwargs': {'analysis_stage': 'img_tomo'}},\n",
       "      {'ndtype': 'rapidz.core.starmap',\n",
       "       'ndfunc': 'xpdtools.pipelines.tomo.recon_wrapper',\n",
       "       'ndkwargs': {'algorithm': 'gridrec'}},\n",
       "      {'ndtype': 'rapidz.core.map',\n",
       "       'ndfunc': 'xpdtools.pipelines.tomo.flatten'},\n",
       "      {'ndtype': 'rapidz.core.combine_latest', 'ndkwargs': {'emit_on': 0}},\n",
       "      {'ndtype': 'rapidz.core.accumulate',\n",
       "       'ndfunc': 'xpdtools.pipelines.tomo.append_data'},\n",
       "      {'ndtype': 'rapidz.core.zip'},\n",
       "      {'ndtype': 'rapidz.core.map',\n",
       "       'ndfunc': 'tomopy.prep.normalize.minus_log'},\n",
       "      {'ndtype': 'rapidz.core.map',\n",
       "       'ndfunc': 'xpdtools.pipelines.tomo.reshape',\n",
       "       'ndkwargs': {'stream_name': 'reshape'}},\n",
       "      {'ndtype': 'shed.translation.FromEventStream',\n",
       "       'ndkwargs': {'principle': True}},\n",
       "      {'ndtype': 'rapidz.core.map', 'ndfunc': 'numpy.deg2rad'},\n",
       "      {'ndtype': 'shed.translation.FromEventStream'},\n",
       "      {'ndtype': 'shed.translation.FromEventStream'}]}},\n",
       "   {'_index': 'demo-an',\n",
       "    '_type': 'run_start',\n",
       "    '_id': 'e7a000bc-ba8f-44af-a6b7-b216b117365a',\n",
       "    '_score': 0.18232156,\n",
       "    '_source': {'uid': 'e7a000bc-ba8f-44af-a6b7-b216b117365a',\n",
       "     'puid': ['66cb4c0a-4868-4a73-b290-e46443862b0b'],\n",
       "     'analysis_stage': 'img_tomo',\n",
       "     'usednodes': [{'ndtype': 'shed.translation.ToEventStream',\n",
       "       'ndkwargs': {'analysis_stage': 'img_tomo'}},\n",
       "      {'ndtype': 'rapidz.core.starmap',\n",
       "       'ndfunc': 'xpdtools.pipelines.tomo.recon_wrapper',\n",
       "       'ndkwargs': {'algorithm': 'gridrec'}},\n",
       "      {'ndtype': 'rapidz.core.map',\n",
       "       'ndfunc': 'xpdtools.pipelines.tomo.flatten'},\n",
       "      {'ndtype': 'rapidz.core.combine_latest', 'ndkwargs': {'emit_on': 0}},\n",
       "      {'ndtype': 'rapidz.core.accumulate',\n",
       "       'ndfunc': 'xpdtools.pipelines.tomo.append_data'},\n",
       "      {'ndtype': 'rapidz.core.zip'},\n",
       "      {'ndtype': 'rapidz.core.map',\n",
       "       'ndfunc': 'tomopy.prep.normalize.minus_log'},\n",
       "      {'ndtype': 'rapidz.core.map',\n",
       "       'ndfunc': 'xpdtools.pipelines.tomo.reshape',\n",
       "       'ndkwargs': {'stream_name': 'reshape'}},\n",
       "      {'ndtype': 'shed.translation.FromEventStream',\n",
       "       'ndkwargs': {'principle': True}},\n",
       "      {'ndtype': 'rapidz.core.map', 'ndfunc': 'numpy.deg2rad'},\n",
       "      {'ndtype': 'shed.translation.FromEventStream'},\n",
       "      {'ndtype': 'shed.translation.FromEventStream'}]}},\n",
       "   {'_index': 'demo-an',\n",
       "    '_type': 'run_start',\n",
       "    '_id': '375071ed-9619-4d4b-9627-29de39847e44',\n",
       "    '_score': 0.18232156,\n",
       "    '_source': {'uid': '375071ed-9619-4d4b-9627-29de39847e44',\n",
       "     'puid': ['96699280-d6cf-49e9-8da8-984bbea88a6e'],\n",
       "     'analysis_stage': 'img_tomo',\n",
       "     'usednodes': [{'ndtype': 'shed.translation.ToEventStream',\n",
       "       'ndkwargs': {'analysis_stage': 'img_tomo'}},\n",
       "      {'ndtype': 'rapidz.core.starmap',\n",
       "       'ndfunc': 'xpdtools.pipelines.tomo.recon_wrapper',\n",
       "       'ndkwargs': {'algorithm': 'gridrec'}},\n",
       "      {'ndtype': 'rapidz.core.map',\n",
       "       'ndfunc': 'xpdtools.pipelines.tomo.flatten'},\n",
       "      {'ndtype': 'rapidz.core.combine_latest', 'ndkwargs': {'emit_on': 0}},\n",
       "      {'ndtype': 'rapidz.core.accumulate',\n",
       "       'ndfunc': 'xpdtools.pipelines.tomo.append_data'},\n",
       "      {'ndtype': 'rapidz.core.zip'},\n",
       "      {'ndtype': 'rapidz.core.map',\n",
       "       'ndfunc': 'tomopy.prep.normalize.minus_log'},\n",
       "      {'ndtype': 'rapidz.core.map',\n",
       "       'ndfunc': 'xpdtools.pipelines.tomo.reshape',\n",
       "       'ndkwargs': {'stream_name': 'reshape'}},\n",
       "      {'ndtype': 'shed.translation.FromEventStream',\n",
       "       'ndkwargs': {'principle': True}},\n",
       "      {'ndtype': 'rapidz.core.map', 'ndfunc': 'numpy.deg2rad'},\n",
       "      {'ndtype': 'shed.translation.FromEventStream'},\n",
       "      {'ndtype': 'shed.translation.FromEventStream'}]}}]}}"
      ]
     },
     "execution_count": 16,
     "metadata": {},
     "output_type": "execute_result"
    }
   ],
   "source": [
    "an_es.qsearch('usednodes.ndkwargs.algorithm:gridrec')"
   ]
  },
  {
   "cell_type": "markdown",
   "metadata": {
    "slideshow": {
     "slide_type": "slide"
    }
   },
   "source": [
    "1. Pavol wants to know if there was a tomographic reconstruction already done?"
   ]
  },
  {
   "cell_type": "code",
   "execution_count": 17,
   "metadata": {
    "slideshow": {
     "slide_type": "subslide"
    }
   },
   "outputs": [],
   "source": [
    "# query an_es/databroker for tomo recon\n",
    "hdrs = an_db_es('analysis_stage:*tomo*')\n",
    "tomo_analysis_hdr = next(iter(hdrs))"
   ]
  },
  {
   "cell_type": "markdown",
   "metadata": {
    "slideshow": {
     "slide_type": "slide"
    }
   },
   "source": [
    "1. Now Pavol wants to replay the same analysis from the database as a sanity check to see if he gets the same answer.\n",
    "1. He wants to see exactly what analysis CJ did during the night, so he plots the analysis graph that he found in the database from the analysis done last night."
   ]
  },
  {
   "cell_type": "code",
   "execution_count": 18,
   "metadata": {
    "slideshow": {
     "slide_type": "subslide"
    }
   },
   "outputs": [
    {
     "name": "stderr",
     "output_type": "stream",
     "text": [
      "/home/christopher/mc/envs/dp_dev/lib/python3.6/site-packages/skimage/transform/_warps.py:105: UserWarning: The default mode, 'constant', will be changed to 'reflect' in skimage 0.15.\n",
      "  warn(\"The default mode, 'constant', will be changed to 'reflect' in \"\n",
      "/home/christopher/mc/envs/dp_dev/lib/python3.6/site-packages/dxchange/reader.py:97: DeprecationWarning: The 'warn' method is deprecated, use 'warning' instead\n",
      "  logger.warn(modname + ' module not found')\n"
     ]
    },
    {
     "data": {
      "image/png": "[encoded data removed]",
      "text/plain": [
       "<IPython.core.display.Image object>"
      ]
     },
     "execution_count": 18,
     "metadata": {},
     "output_type": "execute_result"
    }
   ],
   "source": [
    "# load and show the graph\n",
    "from shed.replay import replay\n",
    "\n",
    "# load the replay\n",
    "graph, parents, data, vs = replay(raw_db, tomo_analysis_hdr)\n",
    "\n",
    "# make the graph more accessible to humans by renaming things\n",
    "# these names *should* match the names in the graph plot\n",
    "for k, v in graph.nodes.items():\n",
    "    v.update(label=_clean_text(str(v['stream'])).strip())\n",
    "graph = readable_graph(graph)\n",
    "\n",
    "# plot the graph\n",
    "graph.nodes['data img FromEventStream']['stream'].visualize()"
   ]
  },
  {
   "cell_type": "markdown",
   "metadata": {
    "slideshow": {
     "slide_type": "slide"
    }
   },
   "source": [
    "1. Each unique analysis has its own unique id.\n",
    "2. Each unique graph has its own unique id."
   ]
  },
  {
   "cell_type": "code",
   "execution_count": 19,
   "metadata": {
    "slideshow": {
     "slide_type": "subslide"
    }
   },
   "outputs": [
    {
     "name": "stdout",
     "output_type": "stream",
     "text": [
      "analysis id: e7a000bc-ba8f-44af-a6b7-b216b117365a\n",
      "analysis id: 5e0fb8c9-2708-4885-9c66-1871dc206f42\n",
      "analysis id: 375071ed-9619-4d4b-9627-29de39847e44\n",
      "graph id: 9a74309687ed374cb5426b45ed7940cda720356930720c802832e8079b857ad4\n",
      "graph id: 9a74309687ed374cb5426b45ed7940cda720356930720c802832e8079b857ad4\n",
      "graph id: 9a74309687ed374cb5426b45ed7940cda720356930720c802832e8079b857ad4\n"
     ]
    }
   ],
   "source": [
    "hdrs = list(an_db_es('usednodes.ndkwargs.algorithm:gridrec'))\n",
    "for hdr in hdrs:\n",
    "    print('analysis id:', hdr.start['uid'])\n",
    "for hdr in hdrs:\n",
    "    print('graph id:', hdr.start['graph_hash'])"
   ]
  },
  {
   "cell_type": "code",
   "execution_count": 20,
   "metadata": {},
   "outputs": [
    {
     "data": {
      "application/vnd.jupyter.widget-view+json": {
       "model_id": "fd71917c30894c0d9a7b81c6793d3fef",
       "version_major": 2,
       "version_minor": 0
      },
      "text/plain": [
       "Output()"
      ]
     },
     "metadata": {},
     "output_type": "display_data"
    }
   ],
   "source": [
    "# setup a publisher to send over to data viz and capture\n",
    "p = Publisher(glbl_dict['inbound_proxy_address'], prefix=b'tomo')\n",
    "z = graph.nodes['img_tomo ToEventStream']['stream'].LastCache().DBFriendly()\n",
    "z.starsink(p)"
   ]
  },
  {
   "cell_type": "markdown",
   "metadata": {
    "slideshow": {
     "slide_type": "slide"
    }
   },
   "source": [
    "1. As a sanity check, Pavol replays the analysis from last night with no changes"
   ]
  },
  {
   "cell_type": "code",
   "execution_count": 21,
   "metadata": {
    "slideshow": {
     "slide_type": "subslide"
    }
   },
   "outputs": [],
   "source": [
    "# replay analysis with no changes\n",
    "r = Retrieve(dbs['raw'].reg.handler_reg)\n",
    "for v in vs:\n",
    "    d = data[v['uid']]\n",
    "    dd = r(*d)\n",
    "    parents[v[\"node\"]].update(dd)"
   ]
  },
  {
   "cell_type": "markdown",
   "metadata": {
    "slideshow": {
     "slide_type": "slide"
    }
   },
   "source": [
    "1. Pavol now changes the recostruction algorithm to ``algebraic``.  It is the node called ``recon_wrapper`` and he wants the keyword argument ``algorithm`` to be set to ``'art'`` which selects the reconstruction algorithm we want to use.\n",
    "1. He then reruns the analysis through the new pipeline, which has just changed by one node."
   ]
  },
  {
   "cell_type": "code",
   "execution_count": 22,
   "metadata": {
    "slideshow": {
     "slide_type": "subslide"
    }
   },
   "outputs": [
    {
     "name": "stdout",
     "output_type": "stream",
     "text": [
      "{'algorithm': 'gridrec'}\n",
      "{'algorithm': 'art'}\n"
     ]
    }
   ],
   "source": [
    "# change to Algebraic Reconstruction technique\n",
    "print(graph.nodes['starmap; recon_wrapper']['stream'].kwargs)\n",
    "graph.nodes['starmap; recon_wrapper']['stream'].kwargs['algorithm'] = 'art'\n",
    "print(graph.nodes['starmap; recon_wrapper']['stream'].kwargs)\n",
    "\n",
    "# replay with changes\n",
    "r = Retrieve(dbs['raw'].reg.handler_reg)\n",
    "for v in vs:\n",
    "    d = data[v['uid']]\n",
    "    dd = r(*d)\n",
    "    parents[v[\"node\"]].update(dd)"
   ]
  },
  {
   "cell_type": "markdown",
   "metadata": {
    "slideshow": {
     "slide_type": "slide"
    }
   },
   "source": [
    "1. Just because he can, Pavol compares the ID of the previous graph and the new one.  They are different because the graphs are different."
   ]
  },
  {
   "cell_type": "code",
   "execution_count": 23,
   "metadata": {
    "slideshow": {
     "slide_type": "subslide"
    }
   },
   "outputs": [
    {
     "name": "stdout",
     "output_type": "stream",
     "text": [
      "e6f0106d528e31de208b66ecda76c2a3a752f5fbfde754dea5237de40c005109\n",
      "4da4d685acd7848496ecd757043ac00ff7e136be2eaefb580729230758857eaa\n"
     ]
    }
   ],
   "source": [
    "# These hashes are different because the algorithms are different\n",
    "dbs = {}\n",
    "for yaml_file in ['raw', 'an']:\n",
    "    with open(f'{yaml_file}.yml', 'r') as f:\n",
    "        dbs[yaml_file] = Broker.from_config(yaml.load(f))\n",
    "from databroker_elasticsearch.converters import register_converter\n",
    "\n",
    "an_db = dbs['an']\n",
    "raw_db = dbs['raw']\n",
    "raw_es = load_elasticindex('es-raw.yaml')\n",
    "an_es = load_elasticindex('es-an.yaml')\n",
    "raw_db_es = BrokerSearch(raw_db, raw_es)\n",
    "an_db_es = BrokerSearch(an_db, an_es)\n",
    "\n",
    "print(an_db[-1].start['graph_hash'])\n",
    "print(an_db[-2].start['graph_hash'])"
   ]
  },
  {
   "cell_type": "markdown",
   "metadata": {
    "slideshow": {
     "slide_type": "slide"
    }
   },
   "source": [
    "1. Pavol searches elastic search for the art reconstruction data\n",
    "1. Not surprisingly, Pavol wants to compare the previous analysis to the new one.\n",
    "1. To do this, he retrieves the last event from each stream and plots them"
   ]
  },
  {
   "cell_type": "code",
   "execution_count": 24,
   "metadata": {
    "slideshow": {
     "slide_type": "subslide"
    }
   },
   "outputs": [
    {
     "data": {
      "text/plain": [
       "{'took': 15,\n",
       " 'timed_out': False,\n",
       " '_shards': {'total': 5, 'successful': 5, 'skipped': 0, 'failed': 0},\n",
       " 'hits': {'total': 1,\n",
       "  'max_score': 0.2876821,\n",
       "  'hits': [{'_index': 'demo-an',\n",
       "    '_type': 'run_start',\n",
       "    '_id': '0def8f69-da81-432d-9bdf-69eb1d627743',\n",
       "    '_score': 0.2876821,\n",
       "    '_source': {'uid': '0def8f69-da81-432d-9bdf-69eb1d627743',\n",
       "     'puid': ['66cb4c0a-4868-4a73-b290-e46443862b0b'],\n",
       "     'analysis_stage': 'img_tomo',\n",
       "     'usednodes': [{'ndtype': 'shed.translation.ToEventStream',\n",
       "       'ndfunc': 'img_tomo',\n",
       "       'ndkwargs': {'analysis_stage': 'img_tomo'}},\n",
       "      {'ndtype': 'rapidz.core.starmap',\n",
       "       'ndfunc': 'xpdtools.pipelines.tomo.recon_wrapper',\n",
       "       'ndkwargs': {'algorithm': 'art'}},\n",
       "      {'ndtype': 'rapidz.core.map',\n",
       "       'ndfunc': 'xpdtools.pipelines.tomo.flatten'},\n",
       "      {'ndtype': 'rapidz.core.combine_latest', 'ndkwargs': {'emit_on': 0}},\n",
       "      {'ndtype': 'rapidz.core.accumulate',\n",
       "       'ndfunc': 'xpdtools.pipelines.tomo.append_data'},\n",
       "      {'ndtype': 'rapidz.core.zip'},\n",
       "      {'ndtype': 'rapidz.core.map',\n",
       "       'ndfunc': 'tomopy.prep.normalize.minus_log'},\n",
       "      {'ndtype': 'rapidz.core.map',\n",
       "       'ndfunc': 'xpdtools.pipelines.tomo.reshape',\n",
       "       'ndkwargs': {'stream_name': 'reshape'}},\n",
       "      {'ndtype': 'shed.translation.FromEventStream',\n",
       "       'ndfunc': 'data',\n",
       "       'ndkwargs': {'principle': True}},\n",
       "      {'ndtype': 'rapidz.core.map', 'ndfunc': 'numpy.deg2rad'},\n",
       "      {'ndtype': 'shed.translation.FromEventStream', 'ndfunc': 'data'},\n",
       "      {'ndtype': 'shed.translation.FromEventStream', 'ndfunc': 'tomo'}]}}]}}"
      ]
     },
     "execution_count": 24,
     "metadata": {},
     "output_type": "execute_result"
    }
   ],
   "source": [
    "# an_es for new data (via new recon algo)\n",
    "dbs = {}\n",
    "for yaml_file in ['raw', 'an']:\n",
    "    with open(f'{yaml_file}.yml', 'r') as f:\n",
    "        dbs[yaml_file] = Broker.from_config(yaml.load(f))\n",
    "from databroker_elasticsearch.converters import register_converter\n",
    "\n",
    "an_db = dbs['an']\n",
    "raw_db = dbs['raw']\n",
    "raw_es = load_elasticindex('es-raw.yaml')\n",
    "an_es = load_elasticindex('es-an.yaml')\n",
    "raw_db_es = BrokerSearch(raw_db, raw_es)\n",
    "an_db_es = BrokerSearch(an_db, an_es)\n",
    "vqan = lambda q: pprint((q, an_es.qsearch(q)))\n",
    "\n",
    "an_es.qsearch('art')"
   ]
  },
  {
   "cell_type": "code",
   "execution_count": 25,
   "metadata": {},
   "outputs": [
    {
     "data": {
      "text/plain": [
       "<matplotlib.image.AxesImage at 0x7fabac1d9e10>"
      ]
     },
     "execution_count": 25,
     "metadata": {},
     "output_type": "execute_result"
    },
    {
     "name": "stderr",
     "output_type": "stream",
     "text": [
      "/home/christopher/mc/envs/dp_dev/lib/python3.6/site-packages/matplotlib/figure.py:2366: UserWarning: This figure includes Axes that are not compatible with tight_layout, so results might be incorrect.\n",
      "  warnings.warn(\"This figure includes Axes that are not compatible \"\n"
     ]
    },
    {
     "data": {
      "image/png": "[encoded data removed]",
      "text/plain": [
       "<Figure size 432x288 with 3 Axes>"
      ]
     },
     "metadata": {
      "needs_background": "light"
     },
     "output_type": "display_data"
    }
   ],
   "source": [
    "hdr1 = next(iter(an_db_es('usednodes.ndkwargs.algorithm:art')))\n",
    "hdr2 = next(iter(an_db_es('usednodes.ndkwargs.algorithm:gridrec')))\n",
    "\n",
    "art = next(hdr1.data('img_tomo', stream_name='final_primary'))\n",
    "grid = next(hdr2.data('img_tomo', stream_name='final_primary'))\n",
    "\n",
    "# Compare results\n",
    "fig, axs = plt.subplots(1, 3, tight_layout=True)\n",
    "for img, ax in zip([art, grid], axs):\n",
    "    ax.imshow(img)\n",
    "axs[-1].imshow(art - grid)"
   ]
  },
  {
   "cell_type": "code",
   "execution_count": null,
   "metadata": {},
   "outputs": [],
   "source": []
  }
 ],
 "metadata": {
  "celltoolbar": "Slideshow",
  "kernelspec": {
   "display_name": "Python 3",
   "language": "python",
   "name": "python3"
  },
  "language_info": {
   "codemirror_mode": {
    "name": "ipython",
    "version": 3
   },
   "file_extension": ".py",
   "mimetype": "text/x-python",
   "name": "python",
   "nbconvert_exporter": "python",
   "pygments_lexer": "ipython3",
   "version": "3.6.7"
  }
 },
 "nbformat": 4,
 "nbformat_minor": 2
}
