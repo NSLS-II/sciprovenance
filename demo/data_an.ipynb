{
 "cells": [
  {
   "cell_type": "code",
   "execution_count": null,
   "metadata": {},
   "outputs": [],
   "source": [
    "# Startup databrokers and elastic search\n",
    "from pprint import pprint\n",
    "\n",
    "from rapidz.graph import _clean_text, readable_graph\n",
    "from xpdan.vend.callbacks.core import Retrieve\n",
    "from xpdan.vend.callbacks.zmq import Publisher\n",
    "from xpdconf.conf import glbl_dict\n",
    "\n",
    "from databroker_elasticsearch import load_elasticindex\n",
    "\n",
    "from databroker import Broker\n",
    "import yaml\n",
    "import esconverters\n",
    "        \n",
    "dbs = {}\n",
    "for yaml_file in ['raw', 'an']:\n",
    "    with open(f'{yaml_file}.yml', 'r') as f:\n",
    "        dbs[yaml_file] = Broker.from_config(yaml.load(f))\n",
    "\n",
    "an_db = dbs['an']\n",
    "raw_db = dbs['raw']\n",
    "raw_es = load_elasticindex('es-raw.yaml')\n",
    "an_es = load_elasticindex('es-an.yaml')\n",
    "raw_db_es = BrokerSearch(raw_db, raw_es)\n",
    "an_db_es = BrokerSearch(an_db, an_es)"
   ]
  },
  {
   "cell_type": "code",
   "execution_count": null,
   "metadata": {},
   "outputs": [],
   "source": [
    "# query raw es for dino tooth\n",
    "raw_es.qsearch()\n",
    "vqraw = lambda q: pprint((q, raw_es.qsearch(q)))\n",
    "vqraw('tooth')  # search all fields\n",
    "vqraw('dinosaur')  # search all fields\n",
    "vqraw('sample_name:dinosaur')  # search specific field\n",
    "vqraw('dino*')  # glob-like search\n",
    "vqraw('dinosaurus~2')  # fuzzy search max edit distance of 2\n",
    "vqraw('/saur/')  # regular expression search\n",
    "raw_hdr = next(iter(raw_db_es('dinosaurus~2')))\n",
    "uid = raw_hdr.start['uid']"
   ]
  },
  {
   "cell_type": "code",
   "execution_count": null,
   "metadata": {},
   "outputs": [],
   "source": [
    "# queries with an_es\n",
    "vqan = lambda q: pprint((q, an_es.qsearch(q)))\n",
    "vqan('img_sinogram')\n",
    "vqan(f'puid:{uid[:6]}*')  # word in puid\n",
    "vqan('analysis_stage:img_sinogram')\n",
    "vqan('usednodes.ndfunc:*sort_sinogram')\n",
    "# query the algorithm kwarg\n",
    "vqan('gridrec')\n",
    "vqan('usednodes.ndkwargs.algorithm:gridrec')\n",
    "\n",
    "\n",
    "# query an_es/databroker for tomo recon\n",
    "hdrs = an_db_es('analysis_stage:*tomo*')\n",
    "tomo_analysis_hdr = next(iter(hdrs))\n",
    "print(tomo_analysis_hdr.start['analysis_stage'])"
   ]
  },
  {
   "cell_type": "code",
   "execution_count": null,
   "metadata": {},
   "outputs": [],
   "source": [
    "# show the graph\n",
    "from shed.replay import replay\n",
    "\n",
    "# load the replay\n",
    "graph, parents, data, vs = replay(raw_db, tomo_analysis_hdr)\n",
    "\n",
    "# make the graph more accessible to humans by renaming things\n",
    "# these names *should* match the names in the graph plot\n",
    "for k, v in graph.nodes.items():\n",
    "    v.update(label=_clean_text(str(v['stream'])).strip())\n",
    "graph = readable_graph(graph)\n",
    "\n",
    "# plot the graph\n",
    "graph.nodes['data img FromEventStream']['stream'].visualize()"
   ]
  },
  {
   "cell_type": "code",
   "execution_count": null,
   "metadata": {},
   "outputs": [],
   "source": [
    "# setup a publisher to send over to data viz and capture\n",
    "p = Publisher(glbl_dict['inbound_proxy_address'], prefix=b'tomo')\n",
    "graph.nodes['img_tomo ToEventStream']['stream'].DBFriendly().starsink(p)\n",
    "\n",
    "# replay analysis with no changes\n",
    "r = Retrieve(dbs['raw'].reg.handler_reg)\n",
    "for v in vs:\n",
    "    d = data[v['uid']]\n",
    "    dd = r(*d)\n",
    "    parents[v[\"node\"]].update(dd)"
   ]
  },
  {
   "cell_type": "code",
   "execution_count": null,
   "metadata": {},
   "outputs": [],
   "source": [
    "# change to Algebra\n",
    "print(graph.nodes['starmap; recon_wrapper']['stream'].kwargs)\n",
    "graph.nodes['starmap; recon_wrapper']['stream'].kwargs['algorithm'] = 'art'\n",
    "print(graph.nodes['starmap; recon_wrapper']['stream'].kwargs)\n",
    "\n",
    "# replay with changes\n",
    "r = Retrieve(dbs['raw'].reg.handler_reg)\n",
    "for v in vs:\n",
    "    d = data[v['uid']]\n",
    "    dd = r(*d)\n",
    "    parents[v[\"node\"]].update(dd)"
   ]
  },
  {
   "cell_type": "code",
   "execution_count": null,
   "metadata": {},
   "outputs": [],
   "source": [
    "# Compare results\n",
    "\n",
    "# Needs to have an independent stream for final data"
   ]
  },
  {
   "cell_type": "code",
   "execution_count": null,
   "metadata": {},
   "outputs": [],
   "source": [
    "# reload databases (maybe)\n",
    "dbs = {}\n",
    "for yaml_file in ['raw', 'an']:\n",
    "    with open(f'{yaml_file}.yml', 'r') as f:\n",
    "        dbs[yaml_file] = Broker.from_config(yaml.load(f))\n",
    "from databroker_elasticsearch.converters import register_converter\n",
    "\n",
    "an_db = dbs['an']\n",
    "raw_db = dbs['raw']\n",
    "raw_es = load_elasticindex('es-raw.yaml')\n",
    "an_es = load_elasticindex('es-an.yaml')\n",
    "raw_db_es = BrokerSearch(raw_db, raw_es)\n",
    "an_db_es = BrokerSearch(an_db, an_es)\n",
    "\n",
    "# an_es for new data (via new recon algo)\n",
    "vqan('art')"
   ]
  },
  {
   "cell_type": "code",
   "execution_count": null,
   "metadata": {},
   "outputs": [],
   "source": []
  }
 ],
 "metadata": {
  "kernelspec": {
   "display_name": "Python 3",
   "language": "python",
   "name": "python3"
  },
  "language_info": {
   "codemirror_mode": {
    "name": "ipython",
    "version": 3
   },
   "file_extension": ".py",
   "mimetype": "text/x-python",
   "name": "python",
   "nbconvert_exporter": "python",
   "pygments_lexer": "ipython3",
   "version": "3.6.7"
  }
 },
 "nbformat": 4,
 "nbformat_minor": 2
}
