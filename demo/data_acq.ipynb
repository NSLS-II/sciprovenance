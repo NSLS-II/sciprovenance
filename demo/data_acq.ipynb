{
 "cells": [
  {
   "cell_type": "markdown",
   "metadata": {
    "slideshow": {
     "slide_type": "slide"
    }
   },
   "source": [
    "**Scenario**\n",
    "1. CJ and Pavol are collaborating on a paleontology project: imaging 3 teeth, sabre-tooth, shark and dinosaur\n",
    "1. CJ is working at a (fictional) NSLS-II beamline overnight\n",
    "1. CJ is taking full-field image data for tomographic analysis using a strip detector (so he gets one slice of the 3D projection)\n"
   ]
  },
  {
   "cell_type": "markdown",
   "metadata": {
    "slideshow": {
     "slide_type": "slide"
    }
   },
   "source": [
    "1. The instrument scientist initializes everything"
   ]
  },
  {
   "cell_type": "code",
   "execution_count": null,
   "metadata": {
    "slideshow": {
     "slide_type": "subslide"
    }
   },
   "outputs": [],
   "source": [
    "import os\n",
    "import time\n",
    "\n",
    "import bluesky.plans as bp\n",
    "import dxchange\n",
    "import numpy as np\n",
    "import tomopy\n",
    "from bluesky.run_engine import RunEngine\n",
    "from xpdan.vend.callbacks import LiveTable\n",
    "from ophyd.sim import SynSignal, hw, SynSignalWithRegistry\n",
    "from xpdan.vend.callbacks.zmq import Publisher\n",
    "from xpdconf.conf import glbl_dict\n",
    "\n",
    "# create fake hardware (motors and detector)\n",
    "hw = hw()\n",
    "fname = os.path.expanduser(\"tooth.h5\")\n",
    "\n",
    "proj, flat, dark, theta = dxchange.read_aps_32id(fname, sino=(0, 1))\n",
    "\n",
    "proj = tomopy.normalize(proj, flat, dark)\n",
    "\n",
    "rot_center = tomopy.find_center(proj, theta, init=290, ind=0, tol=0.5)\n",
    "proj2 = proj\n",
    "theta_motor = hw.motor1\n",
    "theta_motor.kind = \"hinted\"\n",
    "\n",
    "\n",
    "class FullField:\n",
    "    def __call__(self, *args, **kwargs):\n",
    "        v = theta_motor.get()[0]\n",
    "        out = proj2[int(v), :, :]\n",
    "        time.sleep(.5)\n",
    "        return out\n",
    "\n",
    "f = FullField()\n",
    "det = SynSignalWithRegistry(f, name=\"img\", labels={\"detectors\"},\n",
    "                            save_path='/home/christopher/dev/provenance-driven-ldrd/demo/raw_data')\n",
    "det.kind = \"hinted\"\n",
    "\n",
    "# create run engine, link with ZMQ system\n",
    "RE = RunEngine()\n",
    "p = Publisher(glbl_dict[\"inbound_proxy_address\"], prefix=b\"raw\")\n",
    "t = RE.subscribe(p)"
   ]
  },
  {
   "cell_type": "markdown",
   "metadata": {
    "slideshow": {
     "slide_type": "slide"
    }
   },
   "source": [
    "1. CJ builds a scan that is a list of sample angles where he wants to collect data.  Because he is clever he doesn't do these in increasing angle order but bisects the angle each time to get the most angular coverage in the shortest time."
   ]
  },
  {
   "cell_type": "code",
   "execution_count": 2,
   "metadata": {
    "slideshow": {
     "slide_type": "subslide"
    }
   },
   "outputs": [],
   "source": [
    "# build tomo scan locations\n",
    "def build_scan():\n",
    "    l = [0., 90.]\n",
    "    for i in range(8):\n",
    "        ll = l.copy()\n",
    "        interval = sorted(set(ll))[1] / 2\n",
    "        for lll in ll:\n",
    "            j = lll + interval\n",
    "         j = round(j, 0)\n",
    "            if j not in l and j <= 180:\n",
    "                l.append(j)\n",
    "    return l\n"
   ]
  },
  {
   "cell_type": "markdown",
   "metadata": {
    "slideshow": {
     "slide_type": "slide"
    }
   },
   "source": [
    "1. Now CJ is ready to set up his first scan so he builds a scan-plan. He will use the bluesky \"list_scan\" which takes the list of detectors, the motor that will be driven between each shot (in this case the ``theta_motor``) and the list of values to give to the motor (in this case angle in degrees).  Finally, the scan takes a dictionary of metadata (``md``) that will be stored in the run-start header."
   ]
  },
  {
   "cell_type": "code",
   "execution_count": null,
   "metadata": {
    "slideshow": {
     "slide_type": "subslide"
    }
   },
   "outputs": [],
   "source": [
    "shots = 16\n",
    "base_metadata = {\n",
    "            \"tomo\": {\n",
    "                \"type\": \"full_field\",\n",
    "                \"rotation\": \"motor1\",\n",
    "                \"center\": rot_center,\n",
    "            },\n",
    "            'bt_piLast': 'Wright',\n",
    "            'analysis_stage': 'raw',\n",
    "            'sample_type': 'tooth',\n",
    "        }\n",
    "saber_tooth_md = base_metadata.update{'sample_name': 'saber tooth'}\n",
    "shark_md = base_metadata.update{'sample_name': 'shark tooth'}\n",
    "dinosaur_md = base_metadata.update{'sample_name': 'dinosaur tooth'}\n",
    "\n",
    "saber_tooth_scan = bp.list_scan(\n",
    "        [det],\n",
    "        theta_motor,\n",
    "        build_scan()[:shots],\n",
    "        md=saber_tooth_md,\n",
    "    )\n",
    "dinosaur_scan = bp.list_scan(\n",
    "        [det],\n",
    "        theta_motor,\n",
    "        build_scan()[:shots],\n",
    "        md=dinosaur_md,\n",
    "    )\n",
    "# etc."
   ]
  },
  {
   "cell_type": "markdown",
   "metadata": {
    "slideshow": {
     "slide_type": "slide"
    }
   },
   "source": [
    "1. CJ runs the saber tooth and shark scans, then, at 3am, he loads the dinosaur tooth and starts the scan"
   ]
  },
  {
   "cell_type": "code",
   "execution_count": null,
   "metadata": {
    "slideshow": {
     "slide_type": "subslide"
    }
   },
   "outputs": [],
   "source": [
    "RE(dinosaur_scan, LiveTable(['motor1']))"
   ]
  }
 ],
 "metadata": {
  "celltoolbar": "Slideshow",
  "kernelspec": {
   "display_name": "Python 3",
   "language": "python",
   "name": "python3"
  },
  "language_info": {
   "codemirror_mode": {
    "name": "ipython",
    "version": 3
   },
   "file_extension": ".py",
   "mimetype": "text/x-python",
   "name": "python",
   "nbconvert_exporter": "python",
   "pygments_lexer": "ipython3",
   "version": "3.6.6"
  }
 },
 "nbformat": 4,
 "nbformat_minor": 2
}
