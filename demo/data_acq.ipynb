{
 "cells": [
  {
   "cell_type": "code",
   "execution_count": 1,
   "metadata": {},
   "outputs": [
    {
     "name": "stderr",
     "output_type": "stream",
     "text": [
      "/home/christopher/mc/envs/dp_dev/lib/python3.6/site-packages/skimage/transform/_warps.py:105: UserWarning: The default mode, 'constant', will be changed to 'reflect' in skimage 0.15.\n",
      "  warn(\"The default mode, 'constant', will be changed to 'reflect' in \"\n"
     ]
    },
    {
     "name": "stdout",
     "output_type": "stream",
     "text": [
      "0\n"
     ]
    }
   ],
   "source": [
    "import os\n",
    "import time\n",
    "\n",
    "import bluesky.plans as bp\n",
    "import dxchange\n",
    "import numpy as np\n",
    "import tomopy\n",
    "from bluesky.run_engine import RunEngine\n",
    "from ophyd.sim import SynSignal, hw, SynSignalWithRegistry\n",
    "from xpdan.vend.callbacks.zmq import Publisher\n",
    "from xpdconf.conf import glbl_dict\n",
    "\n",
    "# create fake hardware (motors and detector)\n",
    "hw = hw()\n",
    "fname = os.path.expanduser(\"tooth.h5\")\n",
    "\n",
    "proj, flat, dark, theta = dxchange.read_aps_32id(fname, sino=(0, 1))\n",
    "\n",
    "proj = tomopy.normalize(proj, flat, dark)\n",
    "\n",
    "rot_center = tomopy.find_center(proj, theta, init=290, ind=0, tol=0.5)\n",
    "proj2 = proj\n",
    "theta_motor = hw.motor1\n",
    "theta_motor.kind = \"hinted\"\n",
    "\n",
    "\n",
    "class FullField:\n",
    "    def __call__(self, *args, **kwargs):\n",
    "        v = theta_motor.get()[0]\n",
    "        out = proj2[int(v), :, :]\n",
    "        print(v)\n",
    "        time.sleep(.5)\n",
    "        return out\n",
    "\n",
    "f = FullField()\n",
    "det = SynSignalWithRegistry(f, name=\"img\", labels={\"detectors\"},\n",
    "                            save_path='/home/christopher/dev/provenance-driven-ldrd/demo/raw_data')\n",
    "det.kind = \"hinted\"\n",
    "\n",
    "# create run engine, link with ZMQ system\n",
    "RE = RunEngine()\n",
    "p = Publisher(glbl_dict[\"inbound_proxy_address\"], prefix=b\"raw\")\n",
    "t = RE.subscribe(p)\n",
    "\n",
    "# build tomo scan locations\n",
    "def build_scan():\n",
    "    l = [0, 90]\n",
    "    for i in range(8):\n",
    "        ll = l.copy()\n",
    "        interval = sorted(set(ll))[1] / 2\n",
    "        for lll in ll:\n",
    "            j = lll + interval\n",
    "            j = round(j, 0)\n",
    "            if j not in l and j <= 180:\n",
    "                l.append(j)\n",
    "    return l"
   ]
  },
  {
   "cell_type": "code",
   "execution_count": null,
   "metadata": {},
   "outputs": [],
   "source": [
    "# maybe load some of these before the demo? (Finished turkey in the oven and all)"
   ]
  },
  {
   "cell_type": "code",
   "execution_count": null,
   "metadata": {},
   "outputs": [],
   "source": [
    "shots=16"
   ]
  },
  {
   "cell_type": "code",
   "execution_count": 4,
   "metadata": {},
   "outputs": [
    {
     "name": "stdout",
     "output_type": "stream",
     "text": [
      "0\n",
      "90\n",
      "45.0\n",
      "135.0\n",
      "22.0\n",
      "112.0\n",
      "68.0\n",
      "158.0\n",
      "11.0\n",
      "101.0\n",
      "56.0\n",
      "146.0\n",
      "33.0\n",
      "123.0\n",
      "79.0\n",
      "169.0\n",
      "6.0\n",
      "96.0\n",
      "50.0\n",
      "140.0\n",
      "28.0\n",
      "118.0\n",
      "74.0\n",
      "164.0\n",
      "16.0\n",
      "106.0\n",
      "62.0\n",
      "152.0\n",
      "38.0\n",
      "128.0\n",
      "84.0\n",
      "174.0\n",
      "3.0\n",
      "93.0\n",
      "48.0\n",
      "138.0\n",
      "25.0\n",
      "115.0\n",
      "71.0\n",
      "161.0\n",
      "14.0\n",
      "104.0\n",
      "59.0\n",
      "149.0\n",
      "36.0\n",
      "126.0\n",
      "82.0\n",
      "172.0\n",
      "9.0\n",
      "99.0\n",
      "53.0\n",
      "143.0\n",
      "31.0\n",
      "121.0\n",
      "77.0\n",
      "167.0\n",
      "19.0\n",
      "109.0\n",
      "65.0\n",
      "155.0\n",
      "41.0\n",
      "131.0\n",
      "87.0\n",
      "177.0\n"
     ]
    },
    {
     "data": {
      "text/plain": [
       "('008a4cb5-2347-41a4-b706-d9c7a2228cfa',)"
      ]
     },
     "execution_count": 4,
     "metadata": {},
     "output_type": "execute_result"
    }
   ],
   "source": [
    "RE(\n",
    "    bp.list_scan(\n",
    "        [det],\n",
    "        theta_motor,\n",
    "        build_scan()[:shots],\n",
    "        md={\n",
    "            \"tomo\": {\n",
    "                \"type\": \"full_field\",\n",
    "                \"rotation\": \"motor1\",\n",
    "                \"center\": rot_center,\n",
    "            },\n",
    "            'bt_piLast': 'Wright',\n",
    "            'analysis_stage': 'raw',\n",
    "            'sample_type': 'tooth',\n",
    "            'sample_name': 'sabertooth tiger tooth'\n",
    "        },\n",
    "    )\n",
    ")\n"
   ]
  },
  {
   "cell_type": "code",
   "execution_count": 6,
   "metadata": {},
   "outputs": [
    {
     "name": "stdout",
     "output_type": "stream",
     "text": [
      "0\n",
      "90\n",
      "45.0\n",
      "135.0\n",
      "22.0\n",
      "112.0\n",
      "68.0\n",
      "158.0\n",
      "11.0\n",
      "101.0\n",
      "56.0\n",
      "146.0\n",
      "33.0\n",
      "123.0\n",
      "79.0\n",
      "169.0\n",
      "6.0\n",
      "96.0\n",
      "50.0\n",
      "140.0\n",
      "28.0\n",
      "118.0\n",
      "74.0\n",
      "164.0\n",
      "16.0\n",
      "106.0\n",
      "62.0\n",
      "152.0\n",
      "38.0\n",
      "128.0\n",
      "84.0\n",
      "174.0\n"
     ]
    },
    {
     "data": {
      "text/plain": [
       "('fb439cf9-092e-4e86-a603-f58092f6ccd8',)"
      ]
     },
     "execution_count": 6,
     "metadata": {},
     "output_type": "execute_result"
    }
   ],
   "source": [
    "RE(\n",
    "    bp.list_scan(\n",
    "        [det],\n",
    "        theta_motor,\n",
    "        build_scan()[:shots],\n",
    "        md={\n",
    "            \"tomo\": {\n",
    "                \"type\": \"full_field\",\n",
    "                \"rotation\": \"motor1\",\n",
    "                \"center\": rot_center,\n",
    "            },\n",
    "            'bt_piLast': 'Wright',\n",
    "            'analysis_stage': 'raw',\n",
    "            'sample_type': 'tooth',\n",
    "            'sample_name': 'dinosaur tooth'\n",
    "        },\n",
    "    )\n",
    ")"
   ]
  },
  {
   "cell_type": "code",
   "execution_count": null,
   "metadata": {},
   "outputs": [],
   "source": [
    "RE(\n",
    "    bp.list_scan(\n",
    "        [det],\n",
    "        theta_motor,\n",
    "        build_scan()[:shots],\n",
    "        md={\n",
    "            \"tomo\": {\n",
    "                \"type\": \"full_field\",\n",
    "                \"rotation\": \"motor1\",\n",
    "                \"center\": rot_center,\n",
    "            },\n",
    "            'bt_piLast': 'Wright',\n",
    "            'analysis_stage': 'raw',\n",
    "            'sample_type': 'tooth',\n",
    "            'sample_name': 'shark tooth'\n",
    "        },\n",
    "    )\n",
    ")"
   ]
  }
 ],
 "metadata": {
  "kernelspec": {
   "display_name": "Python 3",
   "language": "python",
   "name": "python3"
  },
  "language_info": {
   "codemirror_mode": {
    "name": "ipython",
    "version": 3
   },
   "file_extension": ".py",
   "mimetype": "text/x-python",
   "name": "python",
   "nbconvert_exporter": "python",
   "pygments_lexer": "ipython3",
   "version": "3.6.7"
  }
 },
 "nbformat": 4,
 "nbformat_minor": 2
}
