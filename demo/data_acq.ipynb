{
 "cells": [
  {
   "cell_type": "code",
   "execution_count": null,
   "metadata": {},
   "outputs": [],
   "source": [
    "import os\n",
    "import time\n",
    "\n",
    "import bluesky.plans as bp\n",
    "import dxchange\n",
    "import numpy as np\n",
    "import tomopy\n",
    "from bluesky.run_engine import RunEngine\n",
    "from xpdan.vend.callbacks import LiveTable\n",
    "from ophyd.sim import SynSignal, hw, SynSignalWithRegistry\n",
    "from xpdan.vend.callbacks.zmq import Publisher\n",
    "from xpdconf.conf import glbl_dict\n",
    "\n",
    "# create fake hardware (motors and detector)\n",
    "hw = hw()\n",
    "fname = os.path.expanduser(\"tooth.h5\")\n",
    "\n",
    "proj, flat, dark, theta = dxchange.read_aps_32id(fname, sino=(0, 1))\n",
    "\n",
    "proj = tomopy.normalize(proj, flat, dark)\n",
    "\n",
    "rot_center = tomopy.find_center(proj, theta, init=290, ind=0, tol=0.5)\n",
    "proj2 = proj\n",
    "theta_motor = hw.motor1\n",
    "theta_motor.kind = \"hinted\"\n",
    "\n",
    "\n",
    "class FullField:\n",
    "    def __call__(self, *args, **kwargs):\n",
    "        v = theta_motor.get()[0]\n",
    "        out = proj2[int(v), :, :]\n",
    "        time.sleep(.5)\n",
    "        return out\n",
    "\n",
    "f = FullField()\n",
    "det = SynSignalWithRegistry(f, name=\"img\", labels={\"detectors\"},\n",
    "                            save_path='/home/christopher/dev/provenance-driven-ldrd/demo/raw_data')\n",
    "det.kind = \"hinted\"\n",
    "\n",
    "# create run engine, link with ZMQ system\n",
    "RE = RunEngine()\n",
    "p = Publisher(glbl_dict[\"inbound_proxy_address\"], prefix=b\"raw\")\n",
    "t = RE.subscribe(p)"
   ]
  },
  {
   "cell_type": "code",
   "execution_count": null,
   "metadata": {},
   "outputs": [],
   "source": [
    "# build tomo scan locations\n",
    "def build_scan():\n",
    "    l = [0., 90.]\n",
    "    for i in range(8):\n",
    "        ll = l.copy()\n",
    "        interval = sorted(set(ll))[1] / 2\n",
    "        for lll in ll:\n",
    "            j = lll + interval\n",
    "            j = round(j, 0)\n",
    "            if j not in l and j <= 180:\n",
    "                l.append(j)\n",
    "    return l\n",
    "shots = 16\n",
    "scan = bp.list_scan(\n",
    "        [det],\n",
    "        theta_motor,\n",
    "        build_scan()[:shots],\n",
    "        md={\n",
    "            \"tomo\": {\n",
    "                \"type\": \"full_field\",\n",
    "                \"rotation\": \"motor1\",\n",
    "                \"center\": rot_center,\n",
    "            },\n",
    "            'bt_piLast': 'Wright',\n",
    "            'analysis_stage': 'raw',\n",
    "            'sample_type': 'tooth',\n",
    "            'sample_name': 'dinosaur tooth'\n",
    "        },\n",
    "    )"
   ]
  },
  {
   "cell_type": "code",
   "execution_count": null,
   "metadata": {},
   "outputs": [],
   "source": [
    "RE(scan, LiveTable(['motor1']))"
   ]
  },
  {
   "cell_type": "code",
   "execution_count": null,
   "metadata": {},
   "outputs": [],
   "source": []
  }
 ],
 "metadata": {
  "kernelspec": {
   "display_name": "Python 3",
   "language": "python",
   "name": "python3"
  },
  "language_info": {
   "codemirror_mode": {
    "name": "ipython",
    "version": 3
   },
   "file_extension": ".py",
   "mimetype": "text/x-python",
   "name": "python",
   "nbconvert_exporter": "python",
   "pygments_lexer": "ipython3",
   "version": "3.6.7"
  }
 },
 "nbformat": 4,
 "nbformat_minor": 2
}
