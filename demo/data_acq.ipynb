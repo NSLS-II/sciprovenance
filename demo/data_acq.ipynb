{
 "cells": [
  {
   "cell_type": "code",
   "execution_count": 1,
   "metadata": {},
   "outputs": [
    {
     "name": "stderr",
     "output_type": "stream",
     "text": [
      "/home/christopher/mc/envs/dp_dev/lib/python3.6/site-packages/skimage/transform/_warps.py:105: UserWarning: The default mode, 'constant', will be changed to 'reflect' in skimage 0.15.\n",
      "  warn(\"The default mode, 'constant', will be changed to 'reflect' in \"\n"
     ]
    }
   ],
   "source": [
    "import os\n",
    "import time\n",
    "\n",
    "import bluesky.plans as bp\n",
    "import dxchange\n",
    "import numpy as np\n",
    "import tomopy\n",
    "from bluesky.run_engine import RunEngine\n",
    "from xpdan.vend.callbacks import LiveTable\n",
    "from ophyd.sim import SynSignal, hw, SynSignalWithRegistry\n",
    "from xpdan.vend.callbacks.zmq import Publisher\n",
    "from xpdconf.conf import glbl_dict\n",
    "\n",
    "# create fake hardware (motors and detector)\n",
    "hw = hw()\n",
    "fname = os.path.expanduser(\"tooth.h5\")\n",
    "\n",
    "proj, flat, dark, theta = dxchange.read_aps_32id(fname, sino=(0, 1))\n",
    "\n",
    "proj = tomopy.normalize(proj, flat, dark)\n",
    "\n",
    "rot_center = tomopy.find_center(proj, theta, init=290, ind=0, tol=0.5)\n",
    "proj2 = proj\n",
    "theta_motor = hw.motor1\n",
    "theta_motor.kind = \"hinted\"\n",
    "\n",
    "\n",
    "class FullField:\n",
    "    def __call__(self, *args, **kwargs):\n",
    "        v = theta_motor.get()[0]\n",
    "        out = proj2[int(v), :, :]\n",
    "        time.sleep(.5)\n",
    "        return out\n",
    "\n",
    "f = FullField()\n",
    "det = SynSignalWithRegistry(f, name=\"img\", labels={\"detectors\"},\n",
    "                            save_path='/home/christopher/dev/provenance-driven-ldrd/demo/raw_data')\n",
    "det.kind = \"hinted\"\n",
    "\n",
    "# create run engine, link with ZMQ system\n",
    "RE = RunEngine()\n",
    "p = Publisher(glbl_dict[\"inbound_proxy_address\"], prefix=b\"raw\")\n",
    "t = RE.subscribe(p)\n",
    "\n",
    "# build tomo scan locations\n",
    "def build_scan():\n",
    "    l = [0., 90.]\n",
    "    for i in range(8):\n",
    "        ll = l.copy()\n",
    "        interval = sorted(set(ll))[1] / 2\n",
    "        for lll in ll:\n",
    "            j = lll + interval\n",
    "            j = round(j, 0)\n",
    "            if j not in l and j <= 180:\n",
    "                l.append(j)\n",
    "    return l\n",
    "shots = 16\n",
    "scan = bp.list_scan(\n",
    "        [det],\n",
    "        theta_motor,\n",
    "        build_scan()[:shots],\n",
    "        md={\n",
    "            \"tomo\": {\n",
    "                \"type\": \"full_field\",\n",
    "                \"rotation\": \"motor1\",\n",
    "                \"center\": rot_center,\n",
    "            },\n",
    "            'bt_piLast': 'Wright',\n",
    "            'analysis_stage': 'raw',\n",
    "            'sample_type': 'tooth',\n",
    "            'sample_name': 'dinosaur tooth'\n",
    "        },\n",
    "    )"
   ]
  },
  {
   "cell_type": "code",
   "execution_count": 2,
   "metadata": {},
   "outputs": [
    {
     "name": "stdout",
     "output_type": "stream",
     "text": [
      "+-----------+------------+------------+\n",
      "|   seq_num |       time |     motor1 |\n",
      "+-----------+------------+------------+\n",
      "|         1 | 19:50:39.7 |      0.000 |\n",
      "|         2 | 19:50:40.2 |     90.000 |\n",
      "|         3 | 19:50:40.7 |     45.000 |\n",
      "|         4 | 19:50:41.2 |    135.000 |\n",
      "|         5 | 19:50:41.7 |     22.000 |\n",
      "|         6 | 19:50:42.2 |    112.000 |\n",
      "|         7 | 19:50:42.8 |     68.000 |\n",
      "|         8 | 19:50:43.3 |    158.000 |\n",
      "|         9 | 19:50:43.8 |     11.000 |\n",
      "|        10 | 19:50:44.3 |    101.000 |\n",
      "|        11 | 19:50:44.8 |     56.000 |\n",
      "|        12 | 19:50:45.3 |    146.000 |\n",
      "|        13 | 19:50:45.8 |     33.000 |\n",
      "|        14 | 19:50:46.4 |    123.000 |\n",
      "|        15 | 19:50:46.9 |     79.000 |\n",
      "|        16 | 19:50:47.4 |    169.000 |\n",
      "+-----------+------------+------------+\n",
      "generator list_scan ['af4435cb'] (scan num: 1)\n"
     ]
    },
    {
     "data": {
      "text/plain": [
       "('af4435cb-b340-4bd9-b0d2-eb7735af1b62',)"
      ]
     },
     "execution_count": 2,
     "metadata": {},
     "output_type": "execute_result"
    }
   ],
   "source": [
    "RE(scan, LiveTable(['motor1']))"
   ]
  },
  {
   "cell_type": "code",
   "execution_count": null,
   "metadata": {},
   "outputs": [],
   "source": []
  }
 ],
 "metadata": {
  "kernelspec": {
   "display_name": "Python 3",
   "language": "python",
   "name": "python3"
  },
  "language_info": {
   "codemirror_mode": {
    "name": "ipython",
    "version": 3
   },
   "file_extension": ".py",
   "mimetype": "text/x-python",
   "name": "python",
   "nbconvert_exporter": "python",
   "pygments_lexer": "ipython3",
   "version": "3.6.7"
  }
 },
 "nbformat": 4,
 "nbformat_minor": 2
}
